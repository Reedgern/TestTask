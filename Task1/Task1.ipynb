{
 "cells": [
  {
   "cell_type": "markdown",
   "metadata": {},
   "source": [
    "Для данного задания используется СУБД Postgres."
   ]
  },
  {
   "cell_type": "code",
   "execution_count": 9,
   "metadata": {},
   "outputs": [],
   "source": [
    "import psycopg2\n",
    "import csv\n",
    "from getpass import getpass"
   ]
  },
  {
   "cell_type": "code",
   "execution_count": 10,
   "metadata": {},
   "outputs": [
    {
     "name": "stdout",
     "output_type": "stream",
     "text": [
      "Enter Postgres username: postgres\n",
      "Enter Postgres password: ········\n"
     ]
    }
   ],
   "source": [
    "DB_CONFIGS = {\n",
    "    'host': 'localhost',\n",
    "    'dbname': 'postgres',\n",
    "    'user': input('Enter Postgres username: '),\n",
    "    'password': getpass('Enter Postgres password: ')\n",
    "}"
   ]
  },
  {
   "cell_type": "code",
   "execution_count": 13,
   "metadata": {},
   "outputs": [],
   "source": [
    "conn = psycopg2.connect(**DB_CONFIGS)\n",
    "cur = conn.cursor()"
   ]
  },
  {
   "cell_type": "markdown",
   "metadata": {},
   "source": [
    "Создаем в базе данных таблицу, заполняем ее данными из csv-файла.\n",
    "\n",
    "Для удобства создаем представление, в котором вместо даты используется месяц закупки.\n",
    "\n",
    "С таким представлением можно работать в том случае, если мы рассматриваем данные в рамках одного года, иначе все сломается, поскольку следующий месяц за декабрем, например, 2020 года, будет январь 2021 года, но в таком представлении даты будут выглядеть как 12 и 1."
   ]
  },
  {
   "cell_type": "code",
   "execution_count": 14,
   "metadata": {},
   "outputs": [],
   "source": [
    "with conn.cursor() as cur:\n",
    "    cur.execute(\"drop table if exists orders cascade\")\n",
    "    cur.execute('''\n",
    "        create table orders(\n",
    "            client_id integer,\n",
    "            purchase_date varchar(15)\n",
    "        )\n",
    "    ''')\n",
    "\n",
    "    # conn.commit()\n",
    "\n",
    "    with open('orders.csv', 'r') as f:\n",
    "        reader = csv.reader(f)\n",
    "        next(reader) # Skip the header row.\n",
    "        for row in reader:\n",
    "            cur.execute(\n",
    "            \"INSERT INTO orders VALUES (%s, %s)\", row\n",
    "            )\n",
    "            \n",
    "    cur.execute('drop view if exists purchases')\n",
    "    cur.execute('''create view purchases as\n",
    "        (select client_id, extract(month from to_date(purchase_date, 'MM/DD/YYYY'))::int as purchase_month\n",
    "        from orders);\n",
    "        ''')\n",
    "        \n",
    "conn.commit()\n",
    "# conn.close()"
   ]
  },
  {
   "cell_type": "markdown",
   "metadata": {},
   "source": [
    "Запросы к заданию."
   ]
  },
  {
   "cell_type": "code",
   "execution_count": 19,
   "metadata": {},
   "outputs": [],
   "source": [
    "query1 = '''\n",
    "    select t.purchase_month, sum(t.is_new) as t_count\n",
    "    from\n",
    "    (select client_id, purchase_month,\n",
    "            (case lag(purchase_month, 1, 0) over (partition by client_id order by purchase_month) when 0 then 1 else 0 end) as is_new\n",
    "    from purchases) as t\n",
    "    group by t.purchase_month\n",
    "    order by t.purchase_month\n",
    "    '''\n",
    "\n",
    "query2 = '''\n",
    "    select t.purchase_month, sum(t.twice)\n",
    "    from (select client_id, purchase_month,\n",
    "           (case purchase_month - lag(purchase_month, 1, purchase_month) over (partition by client_id order by purchase_month) when 1 then 1 else 0 end) as twice\n",
    "    from purchases) as t\n",
    "    group by t.purchase_month\n",
    "    order by t.purchase_month\n",
    "'''\n",
    "\n",
    "query3 = '''\n",
    "    select t.purchase_month, sum(t.returned)\n",
    "    from (select client_id, purchase_month,\n",
    "           (case when purchase_month - lag(purchase_month, 1, purchase_month) over (partition by client_id order by purchase_month) > 1 then 1 else 0 end) as returned\n",
    "    from purchases) as t\n",
    "    group by t.purchase_month\n",
    "    order by t.purchase_month\n",
    "'''\n",
    "\n",
    "query4 = '''\n",
    "    select t1.purchase_month, count(t2.client_id)\n",
    "    from (select distinct purchase_month\n",
    "    from purchases) as t1\n",
    "    left join (select client_id, purchase_month,\n",
    "           (lead(purchase_month, 1, 0) over (partition by client_id order by purchase_month)) as next\n",
    "    from purchases) as t2\n",
    "    on t1.purchase_month = (t2.purchase_month + 1) and (t2.next != t1.purchase_month) and (t2.purchase_month != t2.next)\n",
    "    group by t1.purchase_month\n",
    "    order by t1.purchase_month\n",
    "'''"
   ]
  },
  {
   "cell_type": "code",
   "execution_count": 17,
   "metadata": {},
   "outputs": [
    {
     "name": "stdout",
     "output_type": "stream",
     "text": [
      "(5, 100)\n",
      "(6, 15)\n",
      "(7, 0)\n",
      "(8, 0)\n"
     ]
    }
   ],
   "source": [
    "with conn.cursor() as cur:\n",
    "    cur.execute(query1)\n",
    "    \n",
    "    for row in cur.fetchall():\n",
    "        print(row)"
   ]
  },
  {
   "cell_type": "code",
   "execution_count": 18,
   "metadata": {},
   "outputs": [
    {
     "name": "stdout",
     "output_type": "stream",
     "text": [
      "(5, 0)\n",
      "(6, 79)\n",
      "(7, 68)\n",
      "(8, 0)\n"
     ]
    }
   ],
   "source": [
    "with conn.cursor() as cur:\n",
    "    cur.execute(query2)\n",
    "    \n",
    "    for row in cur.fetchall():\n",
    "        print(row)"
   ]
  },
  {
   "cell_type": "code",
   "execution_count": 20,
   "metadata": {},
   "outputs": [
    {
     "name": "stdout",
     "output_type": "stream",
     "text": [
      "(5, 0)\n",
      "(6, 0)\n",
      "(7, 5)\n",
      "(8, 1)\n"
     ]
    }
   ],
   "source": [
    "with conn.cursor() as cur:\n",
    "    cur.execute(query3)\n",
    "    \n",
    "    for row in cur.fetchall():\n",
    "        print(row)"
   ]
  },
  {
   "cell_type": "code",
   "execution_count": 21,
   "metadata": {},
   "outputs": [
    {
     "name": "stdout",
     "output_type": "stream",
     "text": [
      "(5, 0)\n",
      "(6, 21)\n",
      "(7, 26)\n",
      "(8, 73)\n"
     ]
    }
   ],
   "source": [
    "with conn.cursor() as cur:\n",
    "    cur.execute(query4)\n",
    "    \n",
    "    for row in cur.fetchall():\n",
    "        print(row)"
   ]
  },
  {
   "cell_type": "code",
   "execution_count": 22,
   "metadata": {},
   "outputs": [],
   "source": [
    "conn.close()"
   ]
  }
 ],
 "metadata": {
  "kernelspec": {
   "display_name": "Python 3",
   "language": "python",
   "name": "python3"
  },
  "language_info": {
   "codemirror_mode": {
    "name": "ipython",
    "version": 3
   },
   "file_extension": ".py",
   "mimetype": "text/x-python",
   "name": "python",
   "nbconvert_exporter": "python",
   "pygments_lexer": "ipython3",
   "version": "3.7.3"
  }
 },
 "nbformat": 4,
 "nbformat_minor": 2
}
